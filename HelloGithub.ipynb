{
  "nbformat": 4,
  "nbformat_minor": 0,
  "metadata": {
    "colab": {
      "name": "HelloGithub.ipynb",
      "provenance": [],
      "authorship_tag": "ABX9TyO9V1Puy2SErLr6LKgVnAzv",
      "include_colab_link": true
    },
    "kernelspec": {
      "name": "python3",
      "display_name": "Python 3"
    },
    "language_info": {
      "name": "python"
    }
  },
  "cells": [
    {
      "cell_type": "markdown",
      "metadata": {
        "id": "view-in-github",
        "colab_type": "text"
      },
      "source": [
        "<a href=\"https://colab.research.google.com/github/kgold/colab_demo/blob/main/HelloGithub.ipynb\" target=\"_parent\"><img src=\"https://colab.research.google.com/assets/colab-badge.svg\" alt=\"Open In Colab\"/></a>"
      ]
    },
    {
      "cell_type": "markdown",
      "source": [
        "Let's try GitHub!"
      ],
      "metadata": {
        "id": "2oUuTvP3nrPK"
      }
    },
    {
      "cell_type": "code",
      "execution_count": 3,
      "metadata": {
        "colab": {
          "base_uri": "https://localhost:8080/"
        },
        "id": "UPk4wmM_nqNX",
        "outputId": "b03bcec0-301e-4206-e268-66d09f7a27d2"
      },
      "outputs": [
        {
          "output_type": "stream",
          "name": "stdout",
          "text": [
            "Hello, GitHub!\n"
          ]
        }
      ],
      "source": [
        "def hello_github():\n",
        "  print(\"Hello, GitHub!\")\n",
        "\n",
        "hello_github()"
      ]
    }
  ]
}